{
 "cells": [
  {
   "cell_type": "markdown",
   "metadata": {},
   "source": [
    "# Modulo 1 - Setup & Hola Mundo"
   ]
  },
  {
   "cell_type": "markdown",
   "metadata": {},
   "source": [
    "## ¿Qué es Python?\n",
    "\n",
    "- Es un lenguaje de programación interpretado, de propósito general, y orientado a objetos.\n",
    "- Creado por _Guido van Rossum_.\n",
    "- El nombre de _Python_ proviene de un programa de televisión llamado _Monty Python's Flying Circus_ y no de _Python_, la serpiente.\n",
    "    - Beneficios de crear tu propio lenguaje de programación, puedes llamarlo como quieras."
   ]
  },
  {
   "cell_type": "markdown",
   "metadata": {},
   "source": [
    "### ¿Qué es un lenguaje interpretado?\n",
    "\n",
    "> Es aquel lenguaje que es analizado y ejecutado por un interprete.\n",
    "\n",
    "#### Diferencia entre compiladores e interpretes\n",
    "\n",
    "Los compiladores traducen el código fuente de un programa al código máquina del sistema, los intérpretes sólo realizan la traducción típicamente, instrucción por instrucción.\n",
    "\n",
    "#### P. Ej. El discurso del presidente\n",
    "\n",
    "Imaginemos que tenemos un discurso del presidente que será transmitido a nivel internacional. El comite de relaciones exteriores de la Republica de los Estados Unidos Mexicanos esta considerando dos opciones:\n",
    "\n",
    "1. Realizar y enviar copias traducidas a los diferentes paises.\n",
    "2. Contratar personas que traduzcan mientras el discurso sea dado.\n",
    "\n",
    "La primer opción tiene la ventaja de traducir con calma el discurso a los diferentes idiomas para que el mensaje sea claro, además de encontrar errores antes de que se de el discurso. La segunda opción, resulta ser de lo más común en esta clase de contextos, pero con la desventaja de no poder lidear con frases que no sean traducibles, como ***me canso ganso***, lo que puede ocacionar que los paises invitados mal interpreten el discurso."
   ]
  },
  {
   "cell_type": "markdown",
   "metadata": {},
   "source": [
    "### Python 3\n",
    "\n",
    "- Python 3.0 fue publicado en 2008.\n",
    "- Ya no posee compatibilidad con versiones anteriores.\n",
    "    - Sin embargo, muchas de sus características importantes se han respaldado para ser compatibles con la versión 2.7.\n",
    "\n",
    "<img src=\"imgs/unit-1/python-2-vs-3-2018.png\" alt=\"Diferencias entre Python2 y Python3\" width=\"500px\" />"
   ]
  },
  {
   "cell_type": "markdown",
   "metadata": {},
   "source": [
    "## Instalación\n",
    "\n",
    "### MacOS\n",
    "\n",
    "1. Ir a https://www.python.org/downloads/release/python-373/\n",
    "2. En la sección de archivos descarga el instalador para macOS ***macOS 64-bit/32-bit installer***.\n",
    "3. Considera instalar un editor de texto, sugerimos:\n",
    "    - [Atom](https://atom.io/)\n",
    "    - [Visual Studio Code](https://code.visualstudio.com/)\n",
    "4. Encuentra y ejecuta la terminal.\n",
    "5. Escribe `python3.7` y da `Enter`.\n",
    "6. Escribe `quit()` y da `Enter` para salir del interprete.\n",
    "\n",
    "### Windows\n",
    "\n",
    "1. Ir a https://www.python.org/downloads/release/python-373/\n",
    "2. En la sección de archivos descarga el instalador para Windows.\n",
    "    - Asegurate que agregar Python 3.7 al path.\n",
    "3. Considera instalar un editor de texto, sugerimos:\n",
    "    - [Atom](https://atom.io/)\n",
    "    - [Visual Studio Code](https://code.visualstudio.com/)\n",
    "4. Encuentra y ejecuta `PowerShell`.\n",
    "5. Escribe `python` y da `Enter`.\n",
    "6. Escribe `quit()` y da `Enter` para salir del interprete.\n",
    "\n",
    "### Linux\n",
    "\n",
    "1. Ir a https://www.python.org/downloads/release/python-373/\n",
    "2. En la sección de archivos descarga el instalador para Linux.\n",
    "3. Considera instalar un editor de texto, sugerimos:\n",
    "    - [Atom](https://atom.io/)\n",
    "    - [Visual Studio Code](https://code.visualstudio.com/)\n",
    "4. Encuentra y ejecuta la terminal.\n",
    "5. Escribe `python3.7` y da `Enter`.\n",
    "6. Escribe `quit()` y da `Enter` para salir del interprete."
   ]
  },
  {
   "cell_type": "markdown",
   "metadata": {},
   "source": [
    "## Añadir Paquetes\n",
    "\n",
    "Debido a su gran popularidad, _Python_ ha formado una gran comunidad de colaboradores que desarrollan componentes de software y los ofrecen resto de la comunidad de forma gratuita y libre.\n",
    "\n",
    "Lo que permite que los usuario de Python puedan compartir y colaborar de forma eficiente.\n",
    "\n",
    "### pip\n",
    "\n",
    "Es el programa que nos permite instalar paquetes. Es incluido de forma predeterminada a partir de _Python 3.4_.\n",
    "\n",
    "Dicha herramienta está diseñada para ser utilizada desde la línea de comandos.\n",
    "\n",
    "https://pypi.org/ es una forma rápida y sencilla de buscar e instalar paquetes que se encuentren disponibles en _pip_.\n",
    "\n",
    "El siguiente comando instalará la última versión de un paquete y sus dependencias del índice de empaquetado de _Python_:\n",
    "\n",
    "`python -m pip install NombreDelPaquete`\n",
    "\n",
    "En caso de Linux y MacOS, será necesario especificar la version de _Python_ con la que se está trabajando:\n",
    "\n",
    "`python3.7 -m pip install NombreDelPaquete`\n",
    "\n",
    "Adicionalmente, podemos especificar alguno criterios en la instalación del modulo:\n",
    "\n",
    "`python -m pip install NombreDelPaquete==1.0.4    # Alguna versión específica`\n",
    "\n",
    "`python -m pip install \"NombreDelPaquete>=1.0.4\"  # Alguna versión mínima`\n",
    "\n",
    "#### Actualizar algún paquete\n",
    "\n",
    "En ocasiones el paquete que queremos agregar ya se encuentra en instalado, por lo que sólo hace falta actualizarlo:\n",
    "\n",
    "`python -m pip install --upgrade NombreDelPaquete`\n",
    "\n",
    "#### Instalar pip\n",
    "\n",
    "En caso de no tener instalado _pip_, puedes añadirlo de la siguiente manera:\n",
    "\n",
    "`python -m ensurepip --default-pip`\n",
    "\n",
    "\n",
    "### Archivos locales\n",
    "\n",
    "En ocasiones querremos trabajar con paquetes que no se encuentren disponibles en _pip_, por lo que, para añadirlos basta con incluir su archivo `.py` dentro de la carpeta del proyecto."
   ]
  },
  {
   "cell_type": "markdown",
   "metadata": {},
   "source": [
    "### Añadiendo los modulos necesarios para el taller\n",
    "\n",
    "`python -m pip install --user numpy scipy matplotlib ipython jupyter pandas sympy nose`"
   ]
  },
  {
   "cell_type": "markdown",
   "metadata": {},
   "source": [
    "### En el código\n",
    "\n",
    "```python\n",
    "import paquete # Importamos el paquete a nuestro código\n",
    "import paquete2 as p2 # Importamos el paquete a nuestro código, relacionado con un alias\n",
    "from paquetote import paquete as alias # Importamos un paquete especifico de otro paquete a nuestro código, relacionado con un alias\n",
    "\n",
    "paquete.foo()\n",
    "p2.foo()\n",
    "alias.foo()\n",
    "```"
   ]
  },
  {
   "cell_type": "markdown",
   "metadata": {},
   "source": [
    "## Ejecución de un script\n",
    "\n",
    "Empecemos con el código, el siguiente script lo que hace es mostrar en pantalla y ya popular \"¡Hola Mundo!\", pero en ingles."
   ]
  },
  {
   "cell_type": "code",
   "execution_count": 1,
   "metadata": {},
   "outputs": [
    {
     "name": "stdout",
     "output_type": "stream",
     "text": [
      "Hello World!\n"
     ]
    }
   ],
   "source": [
    "print(\"Hello World!\")"
   ]
  },
  {
   "cell_type": "markdown",
   "metadata": {},
   "source": [
    "Para ejecutar el script, lo que tenemos que hacer es:\n",
    "1. Crear un archivo nuevo en nuestro editor de texto.\n",
    "2. Guardalo como `Hello.py`.\n",
    "3. Abrir la terminal en donde se encuentra el archivo.\n",
    "4. Ejecutar el siguiente comando:\n",
    "    - Windows, `python Hello.py`.\n",
    "    - Linux y MacOS, `python3.7 Hello.py`.\n",
    "    \n",
    "En ocasiones querremos programar sin necesidad de crear y guardar algun archivo, para esto podemos hacer uso del interprete de _Python_.\n",
    "\n",
    "1. Abrir la terminal.\n",
    "2. Ejecutar el comando:\n",
    "    - Windows, `python`.\n",
    "    - Linux y MacOS, `python3.7`.\n",
    "3. Obteniendo una ventana como la siguiente:\n",
    "    <img src=\"imgs/terminal-idle.png\" alt=\"Interprete\" width=500px>\n",
    "4. Ahora, escribimos la instrucción:\n",
    "```python\n",
    "print(\"Hello World!\")\n",
    "```\n",
    "    \n",
    "__Felicidades ya han programado en _Python_.__"
   ]
  },
  {
   "cell_type": "markdown",
   "metadata": {},
   "source": [
    "## IDE\n",
    "\n",
    "Un entorno de desarrollo integrado, en inglés _Integrated Development Environment_, es una aplicación que proporciona servicios integrales para facilitarle al programador el desarrollo de software.\n",
    "\n",
    "Para _Python_ existen varios entornos con los que podemos trabajar, en esta ocasión mencionaremos tres:\n",
    "\n",
    "### IDLE\n",
    "Es un entorno de desarrollo integrado para _Python_, que se ha incluido con la implementación predeterminada del lenguaje desde _1.5.2b1_.\n",
    "\n",
    "<img src=\"imgs/python-idle.png\" alt=\"Captura de pantalla de IDLE\" width=\"500px\">\n",
    "\n",
    "### Anaconda\n",
    "\n",
    "Es una distribución opensource de los lenguajes Python y R, utilizada en ciencia de datos, y aprendizaje automático.\n",
    "\n",
    "Dentro de dicha distribución se incluyen un conjunto de herramientas, como el _IDE Spyder_. Además, podemos crear un _Jupyter Notebook_ con el que podemos ejecutar código escrito en _Python_.\n",
    "\n",
    "<img src=\"imgs/anaconda-ide.png\" alt=\"Captura de pantalla de Anaconda\" width=\"500px\">\n",
    "\n",
    "### Pycharm\n",
    "\n",
    "PyCharm es un entorno de desarrollo integrado, específicamente para el lenguaje Python. Desarrollado por la empresa _JetBrains_.\n",
    "\n",
    "> Con el correo de la universidad, puden tener acceso de forma gratuita a la versión \"pro\" del IDE.\n",
    "\n",
    "<img src=\"imgs/pycharm-ide.jpg\" alt=\"Captura de pantalla de Pycharm\" width=\"500px\">"
   ]
  },
  {
   "cell_type": "markdown",
   "metadata": {},
   "source": [
    "## Consejos\n",
    "\n",
    "### Comentarios\n",
    "\n",
    "Los comentarios son de suma importancia dentro del código, generalmente utilizados para documentar lo que tu programa hace, o incluso para deshabilitar secciones del programa.\n",
    "\n",
    "> Los comentarios son ingnorados por el interprete.\n",
    "\n",
    "#### Comentario en una linea\n",
    "\n",
    "Utilizamos el `#` para comentar en una única linea del código."
   ]
  },
  {
   "cell_type": "code",
   "execution_count": 2,
   "metadata": {},
   "outputs": [
    {
     "name": "stdout",
     "output_type": "stream",
     "text": [
      "Hello World!\n"
     ]
    }
   ],
   "source": [
    "# Muestra en pantalla Hola mundo\n",
    "print(\"Hello World!\")\n",
    "\n",
    "# Grita en pantalla Hola mundo\n",
    "print(\"HELLO WORLD!\")"
   ]
  },
  {
   "cell_type": "markdown",
   "metadata": {},
   "source": [
    "#### Comentario multilinea\n",
    "\n",
    "Para realizar un comentario multilinea o un bloque de comentario, será necesario encerrar lo que querramos comentar con `'''`."
   ]
  },
  {
   "cell_type": "code",
   "execution_count": 3,
   "metadata": {},
   "outputs": [
    {
     "name": "stdout",
     "output_type": "stream",
     "text": [
      "Oscar Computer Science\n"
     ]
    }
   ],
   "source": [
    "student_name = \"Oscar\"\n",
    "major = \"Computer Science\"\n",
    "\n",
    "'''\n",
    "is_alive = False\n",
    "\n",
    "print(student_name, major, is_alive)\n",
    "'''\n",
    "\n",
    "print(student_name, major)"
   ]
  },
  {
   "cell_type": "markdown",
   "metadata": {},
   "source": [
    "### Nombre de la variables\n",
    "\n",
    "El programador es libre de bautizar a la variables como quiera, siempre y cuando se entienda la razón de ser de esa variable.\n",
    "\n",
    "> El nombre de la variable no cuesta nada.\n",
    "\n",
    "Existen varios estilos para nombrar a las variables, la que veremos en este taller es _underscores_."
   ]
  },
  {
   "cell_type": "code",
   "execution_count": 14,
   "metadata": {},
   "outputs": [
    {
     "name": "stdout",
     "output_type": "stream",
     "text": [
      "Hello World!\n"
     ]
    }
   ],
   "source": [
    "mensaje_para_el_mundo = \"Hello World!\"\n",
    "\n",
    "print(mensaje_para_el_mundo)"
   ]
  },
  {
   "cell_type": "markdown",
   "metadata": {},
   "source": [
    "## Más printing"
   ]
  },
  {
   "cell_type": "code",
   "execution_count": 5,
   "metadata": {},
   "outputs": [
    {
     "name": "stdout",
     "output_type": "stream",
     "text": [
      "Es la primer parte de un mensaje... Para mi mejor amigo.\n"
     ]
    }
   ],
   "source": [
    "primera_parte = \"Es la primer parte de un mensaje...\"\n",
    "segunda_parte = \"Para mi mejor amigo.\"\n",
    "\n",
    "print(primera_parte + \" \" + segunda_parte)"
   ]
  },
  {
   "cell_type": "code",
   "execution_count": 6,
   "metadata": {},
   "outputs": [
    {
     "name": "stdout",
     "output_type": "stream",
     "text": [
      "Es la primer parte de un mensaje... Para mi mejor amigo.\n"
     ]
    }
   ],
   "source": [
    "primera_parte = \"Es la primer parte de un mensaje...\"\n",
    "segunda_parte = \"Para mi mejor amigo.\"\n",
    "\n",
    "print(primera_parte, segunda_parte)"
   ]
  },
  {
   "cell_type": "code",
   "execution_count": 10,
   "metadata": {},
   "outputs": [
    {
     "name": "stdout",
     "output_type": "stream",
     "text": [
      "Taller PythonTaller PythonTaller PythonTaller PythonTaller Python\n"
     ]
    }
   ],
   "source": [
    "mensaje = \"Taller Python\"\n",
    "\n",
    "print(mensaje * 5)"
   ]
  },
  {
   "cell_type": "code",
   "execution_count": 11,
   "metadata": {},
   "outputs": [
    {
     "name": "stdout",
     "output_type": "stream",
     "text": [
      "1 2 3 4\n",
      "Juan Pedro Mario Marco\n",
      "{} {} {} {} {} {} {} {} {} {} {} {} {} {} {} {}\n"
     ]
    }
   ],
   "source": [
    "formatter = \"{} {} {} {}\"\n",
    "\n",
    "print(formatter.format(1, 2, 3, 4))\n",
    "print(formatter.format(\"Juan\", \"Pedro\", \"Mario\", \"Marco\"))\n",
    "print(formatter.format(formatter, formatter, formatter, formatter))\n"
   ]
  }
 ],
 "metadata": {
  "kernelspec": {
   "display_name": "Python 3",
   "language": "python",
   "name": "python3"
  },
  "language_info": {
   "codemirror_mode": {
    "name": "ipython",
    "version": 3
   },
   "file_extension": ".py",
   "mimetype": "text/x-python",
   "name": "python",
   "nbconvert_exporter": "python",
   "pygments_lexer": "ipython3",
   "version": "3.7.1"
  }
 },
 "nbformat": 4,
 "nbformat_minor": 2
}
