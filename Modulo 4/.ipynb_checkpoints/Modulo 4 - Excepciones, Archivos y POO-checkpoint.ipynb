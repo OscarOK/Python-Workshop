{
 "cells": [
  {
   "cell_type": "markdown",
   "metadata": {},
   "source": [
    "# Modulo 4 - Excepciones, Archivos y POO"
   ]
  },
  {
   "cell_type": "markdown",
   "metadata": {},
   "source": [
    "## Manejo de Excepciones\n",
    "\n",
    "Es una técnica que permite al programador controlar los errores ocasionados durante la ejecución de un programa.\n",
    "\n",
    "### ¿Qué es una excepción?\n",
    "\n",
    "Es un error que se presenta en la ejecución del programa, diferente a un error de sintaxis."
   ]
  },
  {
   "cell_type": "code",
   "execution_count": 1,
   "metadata": {},
   "outputs": [
    {
     "name": "stdout",
     "output_type": "stream",
     "text": [
      "Ingrese el valor de a 2\n",
      "Ingrese el valor de b 6\n",
      "2 6\n"
     ]
    },
    {
     "ename": "TypeError",
     "evalue": "unsupported operand type(s) for //: 'str' and 'str'",
     "output_type": "error",
     "traceback": [
      "\u001b[1;31m---------------------------------------------------------------------------\u001b[0m",
      "\u001b[1;31mTypeError\u001b[0m                                 Traceback (most recent call last)",
      "\u001b[1;32m<ipython-input-1-f45e1c9f998e>\u001b[0m in \u001b[0;36m<module>\u001b[1;34m\u001b[0m\n\u001b[0;32m      5\u001b[0m \u001b[0mprint\u001b[0m\u001b[1;33m(\u001b[0m\u001b[0ma\u001b[0m\u001b[1;33m,\u001b[0m \u001b[0mb\u001b[0m\u001b[1;33m)\u001b[0m\u001b[1;33m\u001b[0m\u001b[1;33m\u001b[0m\u001b[0m\n\u001b[0;32m      6\u001b[0m \u001b[1;33m\u001b[0m\u001b[0m\n\u001b[1;32m----> 7\u001b[1;33m \u001b[0mprint\u001b[0m\u001b[1;33m(\u001b[0m\u001b[1;34mf\"Division entera entre {a} y {b}\"\u001b[0m\u001b[1;33m,\u001b[0m \u001b[0ma\u001b[0m \u001b[1;33m//\u001b[0m \u001b[0mb\u001b[0m\u001b[1;33m)\u001b[0m\u001b[1;33m\u001b[0m\u001b[1;33m\u001b[0m\u001b[0m\n\u001b[0m",
      "\u001b[1;31mTypeError\u001b[0m: unsupported operand type(s) for //: 'str' and 'str'"
     ]
    }
   ],
   "source": [
    "# Leemos dos numeros del usuario\n",
    "a = input(\"Ingrese el valor de a \")\n",
    "b = input(\"Ingrese el valor de b \")\n",
    "\n",
    "print(a, b)\n",
    "\n",
    "print(f\"Division entera entre {a} y {b} es \", a // b)"
   ]
  },
  {
   "cell_type": "code",
   "execution_count": 2,
   "metadata": {},
   "outputs": [
    {
     "name": "stdout",
     "output_type": "stream",
     "text": [
      "<class 'str'>\n"
     ]
    }
   ],
   "source": [
    "print(type(a))"
   ]
  },
  {
   "cell_type": "code",
   "execution_count": 4,
   "metadata": {},
   "outputs": [
    {
     "name": "stdout",
     "output_type": "stream",
     "text": [
      "Ingrese el valor de a 2\n",
      "Ingrese el valor de b 0\n",
      "2 0\n"
     ]
    },
    {
     "ename": "ZeroDivisionError",
     "evalue": "integer division or modulo by zero",
     "output_type": "error",
     "traceback": [
      "\u001b[1;31m---------------------------------------------------------------------------\u001b[0m",
      "\u001b[1;31mZeroDivisionError\u001b[0m                         Traceback (most recent call last)",
      "\u001b[1;32m<ipython-input-4-c9aecd5b0ee8>\u001b[0m in \u001b[0;36m<module>\u001b[1;34m\u001b[0m\n\u001b[0;32m      5\u001b[0m \u001b[0mprint\u001b[0m\u001b[1;33m(\u001b[0m\u001b[0ma\u001b[0m\u001b[1;33m,\u001b[0m \u001b[0mb\u001b[0m\u001b[1;33m)\u001b[0m\u001b[1;33m\u001b[0m\u001b[1;33m\u001b[0m\u001b[0m\n\u001b[0;32m      6\u001b[0m \u001b[1;33m\u001b[0m\u001b[0m\n\u001b[1;32m----> 7\u001b[1;33m \u001b[0mprint\u001b[0m\u001b[1;33m(\u001b[0m\u001b[1;34mf\"Division entera entre {a} y {b} es \"\u001b[0m\u001b[1;33m,\u001b[0m \u001b[0ma\u001b[0m \u001b[1;33m//\u001b[0m \u001b[0mb\u001b[0m\u001b[1;33m)\u001b[0m\u001b[1;33m\u001b[0m\u001b[1;33m\u001b[0m\u001b[0m\n\u001b[0m",
      "\u001b[1;31mZeroDivisionError\u001b[0m: integer division or modulo by zero"
     ]
    }
   ],
   "source": [
    "# Leemos dos numeros del usuario\n",
    "a = int(input(\"Ingrese el valor de a \"))\n",
    "b = int(input(\"Ingrese el valor de b \"))\n",
    "\n",
    "print(a, b)\n",
    "\n",
    "print(f\"Division entera entre {a} y {b} es \", a // b)"
   ]
  },
  {
   "cell_type": "code",
   "execution_count": 4,
   "metadata": {},
   "outputs": [
    {
     "name": "stdout",
     "output_type": "stream",
     "text": [
      "<class 'int'>\n"
     ]
    }
   ],
   "source": [
    "print(type(a))"
   ]
  },
  {
   "cell_type": "code",
   "execution_count": 3,
   "metadata": {},
   "outputs": [
    {
     "name": "stdout",
     "output_type": "stream",
     "text": [
      "Ingrese el valor de a 2\n",
      "Ingrese el valor de b 0\n",
      "2 0\n",
      "Algun dato invalido\n"
     ]
    }
   ],
   "source": [
    "# Leemos dos numeros del usuario\n",
    "try:\n",
    "    a = int(input(\"Ingrese el valor de a \"))\n",
    "    b = int(input(\"Ingrese el valor de b \"))\n",
    "    \n",
    "    print(a, b)\n",
    "    print(f\"Division entera entre {a} y {b} es \", a // b)\n",
    "except:\n",
    "    print(\"Algun dato invalido\")\n"
   ]
  },
  {
   "cell_type": "code",
   "execution_count": 7,
   "metadata": {},
   "outputs": [
    {
     "ename": "SyntaxError",
     "evalue": "default 'except:' must be last (cell_name, line 10)",
     "output_type": "error",
     "traceback": [
      "\u001b[1;36m  File \u001b[1;32m\"cell_name\"\u001b[1;36m, line \u001b[1;32m10\u001b[0m\n\u001b[1;31mSyntaxError\u001b[0m\u001b[1;31m:\u001b[0m default 'except:' must be last\n"
     ]
    }
   ],
   "source": [
    "# Leemos dos numeros del usuario\n",
    "try:\n",
    "    a = int(input(\"Ingrese el valor de a \"))\n",
    "    b = int(input(\"Ingrese el valor de b \"))\n",
    "    \n",
    "    print(a, b)\n",
    "    print(f\"Division entera entre {a} y {b} es \", a // b)\n",
    "except ZeroDivisionError as error:\n",
    "    print(error)\n",
    "except:\n",
    "    print(\"Algun dato invalido\")\n"
   ]
  },
  {
   "cell_type": "code",
   "execution_count": null,
   "metadata": {},
   "outputs": [],
   "source": [
    "# Leemos dos numeros del usuario\n",
    "try:\n",
    "    a = int(input(\"Ingrese el valor de a \"))\n",
    "    b = int(input(\"Ingrese el valor de b \"))\n",
    "    \n",
    "    print(a, b)\n",
    "    print(f\"Division entera entre {a} y {b} es \", a // b)\n",
    "except:\n",
    "    print(\"Algun dato invalido\")\n",
    "except ZeroDivisionError as error:\n",
    "    print(error)\n"
   ]
  },
  {
   "cell_type": "markdown",
   "metadata": {},
   "source": [
    "## Manejo de Archivos\n",
    "\n",
    "### Abriendo un archivo\n",
    "\n",
    "```python\n",
    "open(file, mode='r', buffering=-1, encoding=None, errors=None, newline=None, closefd=True, opener=None)\n",
    "```\n",
    "\n",
    "- file\n",
    "    - Es la ubicación del archivo.\n",
    "- mode\n",
    "    - `'r'`\n",
    "        - Abrir un archivo para leerlo.\n",
    "    - `'w'`\n",
    "        - Abrir un archivo para escribir sobre el.\n",
    "        - Si el archivo no existe se crea, si ya existe, el archivo se sobreescribe.\n",
    "    - `'x'`\n",
    "        - Abrir un archivo para creación exclusiva.\n",
    "        - Si el archivo ya existe, la operación falla.\n",
    "    - `'a'`\n",
    "        - Para adjuntarlo al final del archivo sin truncarlo.\n",
    "        - Crea un nuevo archivo si no existe.\n",
    "    - `'b'`\n",
    "        - Abrir un archivo en modo binario.\n",
    "    - `'+'`\n",
    "        - Abrir un archivo para actualizar, leer y escribir.\n",
    "- buffering\n",
    "    - Establecer la política del búfer.\n",
    "- encoding\n",
    "    - Nombre de la codificación para codificar o decodificar el archivo.\n",
    "    - p.ej. `UTF-8`.\n",
    "- errors\n",
    "    - Un string indicando como manejar los errores de codifcación/decodificación.\n",
    "- newline\n",
    "    - Indica el caracter para nuevas lineas .\n",
    "    - p.ej. None, ' ', '\\n', 'r', '\\r\\n'."
   ]
  },
  {
   "cell_type": "code",
   "execution_count": 111,
   "metadata": {},
   "outputs": [],
   "source": [
    "# Abriendo un archivo txt\n",
    "# Si sólo se escribe el nombre del archivo, se asume que se busca en la carpeta donde se encuentra el .py\n",
    "archivo = open(\"lista.txt\", mode='r')"
   ]
  },
  {
   "cell_type": "markdown",
   "metadata": {},
   "source": [
    "### Leyendo un archivo\n",
    "\n",
    "Sólo será necesario utilizar el método `read(size)`, `size` el tamaño de bytes a leer. Este método lee el contenido de un archivo, el resultado lo podemos almacenar en una variable."
   ]
  },
  {
   "cell_type": "code",
   "execution_count": 112,
   "metadata": {},
   "outputs": [
    {
     "name": "stdout",
     "output_type": "stream",
     "text": [
      "Sebastian De La Riva\n",
      "Oscar Ordoñez\n",
      "Jorge Angel\n",
      "Zahid Garcia\n"
     ]
    }
   ],
   "source": [
    "# Leyendo todo el contenido del archivo\n",
    "print(archivo.read())\n",
    "\n",
    "# Es importante cerrar el archivo siempre que terminemos de usarlo\n",
    "archivo.close()"
   ]
  },
  {
   "cell_type": "markdown",
   "metadata": {},
   "source": [
    "### Iterando sobre el archivo"
   ]
  },
  {
   "cell_type": "code",
   "execution_count": 114,
   "metadata": {},
   "outputs": [
    {
     "name": "stdout",
     "output_type": "stream",
     "text": [
      "1 Sebastian De La Riva\n",
      "\n",
      "2 Oscar Ordoñez\n",
      "\n",
      "3 Jorge Angel\n",
      "\n",
      "4 Zahid Garcia\n"
     ]
    }
   ],
   "source": [
    "# Abriendo el archivo\n",
    "archivo = open(\"lista.txt\", mode='r')\n",
    "\n",
    "# Mostrando el numero de la linea\n",
    "numero_linea = 1\n",
    "\n",
    "# Iterando por cada linea que tenga el archivo\n",
    "for linea in archivo:\n",
    "    print(numero_linea, linea)\n",
    "    numero_linea += 1\n",
    "\n",
    "# Cerrando el archivo\n",
    "archivo.close()"
   ]
  },
  {
   "cell_type": "markdown",
   "metadata": {},
   "source": [
    "### Mostrando cada palabra del archivo"
   ]
  },
  {
   "cell_type": "code",
   "execution_count": 2,
   "metadata": {},
   "outputs": [
    {
     "name": "stdout",
     "output_type": "stream",
     "text": [
      "Sebastian De La Riva\n",
      "\n",
      "Sebastian\n",
      "De\n",
      "La\n",
      "Riva\n",
      "\n",
      "Oscar Ordoñez\n",
      "\n",
      "Oscar\n",
      "Ordoñez\n",
      "\n",
      "Jorge Angel\n",
      "\n",
      "Jorge\n",
      "Angel\n",
      "\n",
      "Zahid Garcia\n",
      "Zahid\n",
      "Garcia\n"
     ]
    }
   ],
   "source": [
    "# Abriendo el archivo\n",
    "archivo = open(\"lista.txt\", mode='r')\n",
    "\n",
    "# Iterando por cada linea que tenga el archivo\n",
    "for linea in archivo:\n",
    "    print(linea)\n",
    "    palabras = linea.split(\" \")\n",
    "    \n",
    "    for palabra in palabras:\n",
    "        print(palabra)\n",
    "\n",
    "# Cerrando el archivo\n",
    "archivo.close()"
   ]
  },
  {
   "cell_type": "markdown",
   "metadata": {},
   "source": [
    "### Escribiendo en un archivo\n",
    "\n",
    "Para esto será necesario cambiar de modo, además de utilizar el método `write()`."
   ]
  },
  {
   "cell_type": "code",
   "execution_count": 144,
   "metadata": {},
   "outputs": [],
   "source": [
    "# Creando un nuevo archivo\n",
    "lista_alumnos = open(\"lista_alumnos.txt\", mode='w+')\n",
    "\n",
    "alumnos = [\"Pedro\", \"Juan\", \"Marco\", \"Alejandra\", \"Mariana\"]\n",
    "\n",
    "# Agregando a todos los alumnos a la lista\n",
    "for alumno in alumnos:\n",
    "    lista_alumnos.write(f\"{alumno}\\n\")\n",
    "\n",
    "# Cerrando el archivo\n",
    "lista_alumnos.close()"
   ]
  },
  {
   "cell_type": "markdown",
   "metadata": {},
   "source": [
    "### Eliminando el contenido de un archivo\n",
    "\n",
    "Con el método `truncate(size)` vaciar el contenido de un archivo, `size` el archivo se trunca a ese tamaño."
   ]
  },
  {
   "cell_type": "code",
   "execution_count": 145,
   "metadata": {},
   "outputs": [
    {
     "name": "stdout",
     "output_type": "stream",
     "text": [
      "Pedro\n",
      "Juan\n",
      "Marco\n",
      "Alejandra\n",
      "Mariana\n",
      "\n",
      "\n"
     ]
    }
   ],
   "source": [
    "# Abriendo un archivo\n",
    "lista_alumnos = open(\"lista_alumnos.txt\", \"r+\")\n",
    "\n",
    "print(lista_alumnos.read())\n",
    "\n",
    "lista_alumnos.truncate(5)\n",
    "\n",
    "print(lista_alumnos.read())\n",
    "\n",
    "# Cerrando el archivo\n",
    "lista_alumnos.close()"
   ]
  },
  {
   "cell_type": "markdown",
   "metadata": {},
   "source": [
    "### Cerrando un archivo\n",
    "\n",
    "El método `close()` ya lo hemos utilizado anteriormente, en resumen, su utilidad es cerrar el archivo y así guardar todos los cambios que se hayan efectuado."
   ]
  },
  {
   "cell_type": "markdown",
   "metadata": {},
   "source": [
    "### Utilizando with"
   ]
  },
  {
   "cell_type": "code",
   "execution_count": 6,
   "metadata": {},
   "outputs": [
    {
     "name": "stdout",
     "output_type": "stream",
     "text": [
      "[['Sebastian', 'De', 'La', 'Riva'], ['Oscar', 'Ordoñez'], ['Jorge', 'Angel'], ['Zahid', 'Garcia']]\n"
     ]
    }
   ],
   "source": [
    "with open(\"lista.txt\", mode=\"r+\") as archivo:\n",
    "    nombres = [linea.split() for linea in archivo]\n",
    "    \n",
    "print(nombres)"
   ]
  },
  {
   "cell_type": "markdown",
   "metadata": {},
   "source": [
    "## Introducción a Programación Orientada a Objetos\n",
    "\n",
    "### ¿Qué es un objeto?\n",
    "\n",
    "Es una abstracción de un objeto real, p.ej. Podemos decir que una persona tiene un nombre, apellido, edad,y genero, además, una es capaz de caminar, respirar, comunicarse. Pero una persona es más compleja que sólo los datos y las acciones anteriores, por eso es una abstracción, sólo nos interesan los datos y acciones que nos ayuden para resolver un problema.\n",
    "\n",
    "Entonces, se puede decir que un objeto se compone de:\n",
    "- Propiedades, p.ej. Nombre, apellido, edad, ...\n",
    "- Acciones, p.ej. Caminar, comer, vivir, ...\n",
    "\n",
    "<img src=\"imgs/character.png\" alt=\"Persona\" width=\"500px\">\n",
    "\n",
    "### ¿Qué es una clase?\n",
    "\n",
    "Dentro del mundo de la programación, la forma de representar un objeto es por medio de una clase. Dichas clases se componen por:\n",
    "\n",
    "- Atributos, p.ej. Nombre, apellido, edad, ...\n",
    "    - Análogo a las propiedades de un objeto en la vida real.\n",
    "- Métodos, p.ej. Caminar, comer, vivir, ...\n",
    "    - Análogo a las acciones que puede hacer un objeto en la vida real.\n",
    "\n",
    "#### Algunas definiciones\n",
    "\n",
    "- Clase\n",
    "    - Le dice a _Python_ que haga un nuevo tipo de cosa.\n",
    "- Objeto\n",
    "    - El tipo más básico de cosas.\n",
    "    - Cualquier instancia de algo.\n",
    "- Instancia\n",
    "    - Es el resultado cuando le pides a _Python_ que cree una clase.\n",
    "- def\n",
    "    - Es como definimos una función dentro de la clase.\n",
    "    - Las acciones que la clase puede realizar.\n",
    "- self\n",
    "    - Dentro de las funciones en una clase, self es una variable para la instancia/objeto al que se accede.\n",
    "- Herencia\n",
    "    - El concepto donde una clase puede heredar atributos y métodos de otra clase.\n",
    "- Composición\n",
    "    - El concepto de que una clase puede estar compuesta de otras clases como atributos.\n",
    "    - p.ej. Cómo un automóvil tiene ruedas.\n",
    "\n",
    "### Creemos una clase"
   ]
  },
  {
   "cell_type": "code",
   "execution_count": 71,
   "metadata": {},
   "outputs": [],
   "source": [
    "class Perro(object):\n",
    "    \n",
    "    # Constructor\n",
    "    def __init__(self, nombre, raza):\n",
    "        self.nombre = nombre # Atributo\n",
    "        self.raza = raza     # Atributo\n",
    "    \n",
    "    # Método\n",
    "    def ladrar(self, a_quien):\n",
    "        print(f\"{self.nombre} le esta ladrando al {a_quien}...\")"
   ]
  },
  {
   "cell_type": "markdown",
   "metadata": {},
   "source": [
    "#### ¿Qué es un constructor?\n",
    "\n",
    "Es un método que tiene como misión inicializar un objeto de una clase. En el constructor se asignan los valores iniciales del nuevo objeto."
   ]
  },
  {
   "cell_type": "code",
   "execution_count": 72,
   "metadata": {},
   "outputs": [
    {
     "name": "stdout",
     "output_type": "stream",
     "text": [
      "Firulais\n"
     ]
    }
   ],
   "source": [
    "# Creamos una instancia de Alumno\n",
    "firulais = Perro(\"Firulais\", \"Sabueso Tigre Siberiano\")\n",
    "\n",
    "# Accedemos a los atributos del objeto\n",
    "print(firulais.nombre)"
   ]
  },
  {
   "cell_type": "code",
   "execution_count": 45,
   "metadata": {},
   "outputs": [
    {
     "name": "stdout",
     "output_type": "stream",
     "text": [
      "Firulais le esta ladrando al Cartero...\n"
     ]
    }
   ],
   "source": [
    "# Utilizamos los métodos que tiene el objeto\n",
    "firulais.ladrar(\"Cartero\")"
   ]
  },
  {
   "cell_type": "markdown",
   "metadata": {},
   "source": [
    "### Herencia\n",
    "\n",
    "Una clase nueva se crea a partir de una clase existente. Esto nos ayuda a condensar atributos y métodos que tengan en común.\n",
    "\n",
    "<img src=\"imgs/herencia.png\" alt=\"Herencia en aves\" width=\"500px\" >\n",
    "\n",
    "#### ¿Qué clase de persona eres?\n",
    "\n",
    "Ahora creemos una clase _persona_, para fines prácticos una persona tiene:\n",
    "\n",
    "- Nombres\n",
    "- Apellidos\n",
    "- Genero\n",
    "- Edad\n",
    "\n",
    "Y una persona puede ser capaz de:\n",
    "\n",
    "- Mostrar toda su información general"
   ]
  },
  {
   "cell_type": "code",
   "execution_count": 2,
   "metadata": {},
   "outputs": [],
   "source": [
    "class Persona(object):\n",
    "    \n",
    "    def __init__(self, nombres, apellidos, genero, edad):\n",
    "        self.nombres = nombres\n",
    "        self.apellidos = apellidos\n",
    "        self.genero = genero\n",
    "        self.edad = int(edad)\n",
    "    \n",
    "    def mostrar_informacion(self):\n",
    "        print(f\"Mi nombre completo es {self.nombres} {self.apellidos} soy {self.genero.lower()} y tengo {self.edad} años de edad.\")"
   ]
  },
  {
   "cell_type": "code",
   "execution_count": 3,
   "metadata": {},
   "outputs": [
    {
     "name": "stdout",
     "output_type": "stream",
     "text": [
      "Mi nombre completo es Juan Peréz López soy hombre y tengo 32 años de edad.\n"
     ]
    }
   ],
   "source": [
    "# Creamos una nueva persona\n",
    "juan = Persona(\"Juan\", \"Peréz López\", \"Hombre\", 32)\n",
    "\n",
    "# Mostramos la información de Juan\n",
    "juan.mostrar_informacion()"
   ]
  },
  {
   "cell_type": "markdown",
   "metadata": {},
   "source": [
    "***Excelente***, ahora podemos crear una clase Alumno."
   ]
  },
  {
   "cell_type": "code",
   "execution_count": 4,
   "metadata": {},
   "outputs": [],
   "source": [
    "class Alumno(Persona):\n",
    "    \n",
    "    def __init__(self, nombres, apellidos, genero, edad, matricula):\n",
    "        \n",
    "        # Guardamos el nuevo atributo\n",
    "        self.matricula = matricula\n",
    "        \n",
    "        # Mandamos a llamar el metodo constructor del padre\n",
    "        super(Alumno, self).__init__(nombres, apellidos, genero, edad)"
   ]
  },
  {
   "cell_type": "code",
   "execution_count": 5,
   "metadata": {},
   "outputs": [
    {
     "name": "stdout",
     "output_type": "stream",
     "text": [
      "320649\n"
     ]
    }
   ],
   "source": [
    "mario = Alumno(\"Mario\", \"Olea\", \"Hombre\", 19, \"320649\")\n",
    "\n",
    "print(mario.matricula)"
   ]
  },
  {
   "cell_type": "code",
   "execution_count": 6,
   "metadata": {},
   "outputs": [
    {
     "name": "stdout",
     "output_type": "stream",
     "text": [
      "Mi nombre completo es Mario Olea soy hombre y tengo 19 años de edad.\n"
     ]
    }
   ],
   "source": [
    "mario.mostrar_informacion()"
   ]
  },
  {
   "cell_type": "code",
   "execution_count": 7,
   "metadata": {},
   "outputs": [
    {
     "name": "stdout",
     "output_type": "stream",
     "text": [
      "<__main__.Alumno object at 0x00000226ECC0E080>\n"
     ]
    }
   ],
   "source": [
    "print(mario)"
   ]
  },
  {
   "cell_type": "code",
   "execution_count": 8,
   "metadata": {},
   "outputs": [],
   "source": [
    "class Alumno(Persona):\n",
    "    \n",
    "    def __init__(self, nombres, apellidos, genero, edad, matricula):\n",
    "        \n",
    "        # Guardamos el nuevo atributo\n",
    "        self.matricula = matricula\n",
    "        \n",
    "        # Mandamos a llamar el metodo constructor del padre\n",
    "        super(Alumno, self).__init__(nombres, apellidos, genero, edad)\n",
    "        \n",
    "    def __str__(self):\n",
    "        return f\"{self.matricula} - {self.nombres} {self.apellidos}\""
   ]
  },
  {
   "cell_type": "code",
   "execution_count": 9,
   "metadata": {},
   "outputs": [
    {
     "name": "stdout",
     "output_type": "stream",
     "text": [
      "320649 - Mario Olea\n"
     ]
    }
   ],
   "source": [
    "mario = Alumno(\"Mario\", \"Olea\", \"Hombre\", 19, \"320649\")\n",
    "\n",
    "print(mario)"
   ]
  },
  {
   "cell_type": "code",
   "execution_count": 10,
   "metadata": {},
   "outputs": [
    {
     "name": "stdout",
     "output_type": "stream",
     "text": [
      "320649\n"
     ]
    }
   ],
   "source": [
    "print(mario.matricula)"
   ]
  }
 ],
 "metadata": {
  "kernelspec": {
   "display_name": "Python 3",
   "language": "python",
   "name": "python3"
  },
  "language_info": {
   "codemirror_mode": {
    "name": "ipython",
    "version": 3
   },
   "file_extension": ".py",
   "mimetype": "text/x-python",
   "name": "python",
   "nbconvert_exporter": "python",
   "pygments_lexer": "ipython3",
   "version": "3.7.1"
  }
 },
 "nbformat": 4,
 "nbformat_minor": 2
}
