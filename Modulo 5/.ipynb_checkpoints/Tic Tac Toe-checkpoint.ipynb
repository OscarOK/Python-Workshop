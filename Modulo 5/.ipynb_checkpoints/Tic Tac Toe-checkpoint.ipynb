{
 "cells": [
  {
   "cell_type": "code",
   "execution_count": 1,
   "metadata": {},
   "outputs": [],
   "source": [
    "class Board(object):\n",
    "    def __init__(self):\n",
    "        self.game_board = self.init_board()\n",
    "    \n",
    "    def init_board(self):\n",
    "        return [[str(i) for i in range((3 * j) - 2, (3 * j) + 1)] for j in range(1, 4)][::-1]\n",
    "    \n",
    "    def insert_into_board(self, x, y, symbol):\n",
    "        if self.game_board[x][y].isdigit():\n",
    "            self.game_board[x][y] = symbol\n",
    "            return True\n",
    "        return False\n",
    "    \n",
    "    def __str__(self):\n",
    "        str_board = \"\"\n",
    "        \n",
    "        for row in range(3):\n",
    "            for col in range(3):\n",
    "                str_board += self.game_board[row][col]\n",
    "                \n",
    "                if col < 2:\n",
    "                    str_board += \" | \"\n",
    "            str_board += \"\\n\"\n",
    "            \n",
    "            if row < 2:\n",
    "                str_board += \"---------\"\n",
    "                str_board += \"\\n\"\n",
    "                \n",
    "        return str_board\n",
    "                "
   ]
  },
  {
   "cell_type": "code",
   "execution_count": 2,
   "metadata": {},
   "outputs": [],
   "source": [
    "board = Board()"
   ]
  },
  {
   "cell_type": "code",
   "execution_count": 3,
   "metadata": {},
   "outputs": [],
   "source": [
    "class Player(object):\n",
    "    def __init__(self, name, symbol):\n",
    "        if symbol.isdigit():\n",
    "            raise ValueError(\"The player symbol must be not a digit\")\n",
    "        \n",
    "        self.name = name\n",
    "        self.symbol = symbol\n",
    "        self.is_turn = False\n",
    "        self.winner = False\n",
    "        \n",
    "    def __str__(self):\n",
    "        return f\"{self.name} with the symbol {self.symbol}\""
   ]
  },
  {
   "cell_type": "code",
   "execution_count": 4,
   "metadata": {},
   "outputs": [],
   "source": [
    "player_1 = Player(\"Oscar\", \"O\")\n",
    "player_2 = Player(\"Juan\", \"X\")"
   ]
  },
  {
   "cell_type": "code",
   "execution_count": 8,
   "metadata": {},
   "outputs": [],
   "source": [
    "class Game(object):\n",
    "    def __init__(self, board, player_1, player_2):\n",
    "        self.board = board\n",
    "        self.player_1 = player_1\n",
    "        self.player_2 = player_2\n",
    "        self.player_1.is_turn = True\n",
    "        self.player_2.is_turn = False\n",
    "        self.have_winner = False\n",
    "    \n",
    "    def play(self):\n",
    "        while not self.have_winner:\n",
    "            print(self.board)\n",
    "            self.give_turn()\n",
    "            \n",
    "            if self.check_winner():\n",
    "                if self.player_1.winner:\n",
    "                    print(self.player_1, \"won!\")\n",
    "                else:\n",
    "                    print(self.player_2, \"won!\")\n",
    "                self.have_winner = True\n",
    "                    \n",
    "            self.change_turns()\n",
    "            \n",
    "    def change_turns(self):\n",
    "        self.player_1.is_turn = not self.player_1.is_turn\n",
    "        self.player_2.is_turn = not self.player_2.is_turn\n",
    "    \n",
    "    def give_turn(self):\n",
    "        message = \"choose a number between 1 - 9\"\n",
    "        \n",
    "        if self.player_1.is_turn:\n",
    "            pos = int(input(f\"{self.player_1.name}, {message} \"))\n",
    "        else:\n",
    "            pos = int(input(f\"{self.player_2.name}, {message} \"))\n",
    "        \n",
    "        row = 2 - int((pos - 1) / 3)\n",
    "        col = int((pos - 1) % 3)\n",
    "        \n",
    "        if self.player_1.is_turn:\n",
    "            self.board.insert_into_board(row, col, self.player_1.symbol)\n",
    "        else:\n",
    "            self.board.insert_into_board(row, col, self.player_2.symbol)\n",
    "    \n",
    "    def check_winner(self):    \n",
    "        # Rows\n",
    "        for row in self.board.game_board:\n",
    "            rows = set([row[0], row[1], row[2]])\n",
    "            \n",
    "            if self.check_set(rows):\n",
    "                return True\n",
    "        \n",
    "        # Columns\n",
    "        for column in range(3):\n",
    "            columns = set([self.board.game_board[0][column], self.board.game_board[1][column], self.board.game_board[2][column]])\n",
    "            \n",
    "            if self.check_set(columns):\n",
    "                return True\n",
    "        \n",
    "        # Diagonals\n",
    "        diagonal_1 = set([self.board.game_board[0][0], self.board.game_board[1][1], self.board.game_board[2][2]])        \n",
    "        diagonal_2 = set([self.board.game_board[0][2], self.board.game_board[1][1], self.board.game_board[2][0]])\n",
    "        \n",
    "        if self.check_set(diagonal_1) or self.check_set(diagonal_2):\n",
    "            return True\n",
    "        \n",
    "        return False\n",
    "            \n",
    "    def check_set(self, some_set):\n",
    "        return len(some_set) == 1\n",
    "    \n",
    "    def set_winner(self):\n",
    "        if self.player_1.is_turn:\n",
    "            self.player_1.winner = True\n",
    "        else:\n",
    "            self.player_2.winner = True"
   ]
  },
  {
   "cell_type": "code",
   "execution_count": 9,
   "metadata": {},
   "outputs": [],
   "source": [
    "game = Game(board, player_1, player_2)"
   ]
  },
  {
   "cell_type": "code",
   "execution_count": 1,
   "metadata": {},
   "outputs": [
    {
     "ename": "NameError",
     "evalue": "name 'game' is not defined",
     "output_type": "error",
     "traceback": [
      "\u001b[1;31m---------------------------------------------------------------------------\u001b[0m",
      "\u001b[1;31mNameError\u001b[0m                                 Traceback (most recent call last)",
      "\u001b[1;32m<ipython-input-1-f1e8ab410818>\u001b[0m in \u001b[0;36m<module>\u001b[1;34m\u001b[0m\n\u001b[1;32m----> 1\u001b[1;33m \u001b[0mgame\u001b[0m\u001b[1;33m.\u001b[0m\u001b[0mplay\u001b[0m\u001b[1;33m(\u001b[0m\u001b[1;33m)\u001b[0m\u001b[1;33m\u001b[0m\u001b[1;33m\u001b[0m\u001b[0m\n\u001b[0m",
      "\u001b[1;31mNameError\u001b[0m: name 'game' is not defined"
     ]
    }
   ],
   "source": [
    "game.play()"
   ]
  },
  {
   "cell_type": "code",
   "execution_count": null,
   "metadata": {},
   "outputs": [],
   "source": []
  },
  {
   "cell_type": "code",
   "execution_count": null,
   "metadata": {},
   "outputs": [],
   "source": []
  }
 ],
 "metadata": {
  "kernelspec": {
   "display_name": "Python 3",
   "language": "python",
   "name": "python3"
  },
  "language_info": {
   "codemirror_mode": {
    "name": "ipython",
    "version": 3
   },
   "file_extension": ".py",
   "mimetype": "text/x-python",
   "name": "python",
   "nbconvert_exporter": "python",
   "pygments_lexer": "ipython3",
   "version": "3.7.1"
  }
 },
 "nbformat": 4,
 "nbformat_minor": 2
}
