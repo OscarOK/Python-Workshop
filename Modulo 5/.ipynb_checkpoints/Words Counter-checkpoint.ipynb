{
 "cells": [
  {
   "cell_type": "code",
   "execution_count": 33,
   "metadata": {},
   "outputs": [],
   "source": [
    "d = {}\n",
    "\n",
    "with open(\"text.txt\", mode=\"r+\") as file:\n",
    "    for line in file:\n",
    "        words = line.lower().replace(\"\\n\", \"\").replace(\".\", \"\").replace(\",\", \"\").split(\" \")\n",
    "        \n",
    "        for word in words:\n",
    "            if word not in d:\n",
    "                d[word] = 1\n",
    "            else:\n",
    "                d[word] += 1 \n",
    "    \n",
    "    del d[\"\"]"
   ]
  },
  {
   "cell_type": "code",
   "execution_count": 64,
   "metadata": {},
   "outputs": [
    {
     "name": "stdout",
     "output_type": "stream",
     "text": [
      "('sed', 17) ('do', 1)\n"
     ]
    }
   ],
   "source": [
    "max_pair = list(d.items())[0]\n",
    "min_pair = list(d.items())[0]\n",
    "\n",
    "for item in d.items():\n",
    "    if max_pair[1] < item[1]:\n",
    "        max_pair = item\n",
    "    \n",
    "    if min_pair[1] > item[1]:\n",
    "        min_pair = item\n",
    "        \n",
    "print(max_pair, min_pair)"
   ]
  },
  {
   "cell_type": "code",
   "execution_count": null,
   "metadata": {},
   "outputs": [],
   "source": []
  }
 ],
 "metadata": {
  "kernelspec": {
   "display_name": "Python 3",
   "language": "python",
   "name": "python3"
  },
  "language_info": {
   "codemirror_mode": {
    "name": "ipython",
    "version": 3
   },
   "file_extension": ".py",
   "mimetype": "text/x-python",
   "name": "python",
   "nbconvert_exporter": "python",
   "pygments_lexer": "ipython3",
   "version": "3.7.1"
  }
 },
 "nbformat": 4,
 "nbformat_minor": 2
}
