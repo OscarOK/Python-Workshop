{
 "cells": [
  {
   "cell_type": "code",
   "execution_count": 1,
   "metadata": {},
   "outputs": [],
   "source": [
    "from random import randint"
   ]
  },
  {
   "cell_type": "markdown",
   "metadata": {},
   "source": [
    "# Ciclos (loops)\n",
    "Los ciclos nos sirven cuando queremos que una pieza de código se ejecute hasta que una condición se cumpla (o se deje de cumplir), o si queremos ejecutar esa pieza un número determinado de veces (por ejemplo, aplicarla por cada elemento de una colección).\n",
    "\n",
    "Para el primer caso nos resultan de utilidad los ciclos de tipo `while` mientras que para el segundo resultan más apropiados los ciclos del tipo `for`.\n",
    "\n",
    "## El ciclo `while` \n",
    "Como mencionabamos, estos ciclos nos resultarán utiles cuando querramos que algo se ejecute mientras se esté cumpliendo cierta condición. Por lo general, esto significa que no tenemos una estimación certera sobre el *número de veces* que se ejecutará. Claro, esto es más como una *regla general* y no algo formal.\n",
    "Son de la forma\n",
    "```python\n",
    "while condicion:\n",
    "    # Do stuff\n",
    "```\n",
    "Se ejecutaran *mientras* que `condicion` sea `True`, lo que significa que si queremos salir del ciclo, en algún momento tiene que cambiar el valor de `condicion` o podemos utilizar la instrucción `break`, que directamente provoca que el ciclo se acabe.\n",
    "\n",
    "Debemos tener cuidado con eso, pues podríamos provocar que nuestro programa se quede en ese ciclo de manera indefinida, hasta ser terminado de manera externa.\n",
    "\n",
    "### Ejemplos"
   ]
  },
  {
   "cell_type": "code",
   "execution_count": 2,
   "metadata": {},
   "outputs": [
    {
     "name": "stdout",
     "output_type": "stream",
     "text": [
      "1\n",
      "2\n",
      "3\n",
      "4\n",
      "5\n",
      "6\n",
      "7\n",
      "8\n",
      "9\n",
      "10\n"
     ]
    }
   ],
   "source": [
    "# Usualmente usamos whiles con condiciones que usan un contador\n",
    "c = 0\n",
    "while c < 10:\n",
    "    # Cosas\n",
    "    c += 1\n",
    "    print(c)"
   ]
  },
  {
   "cell_type": "code",
   "execution_count": 3,
   "metadata": {},
   "outputs": [
    {
     "name": "stdout",
     "output_type": "stream",
     "text": [
      "n: 9\n",
      "28\n",
      "14\n",
      "7\n",
      "22\n",
      "11\n",
      "34\n",
      "17\n",
      "52\n",
      "26\n",
      "13\n",
      "40\n",
      "20\n",
      "10\n",
      "5\n",
      "16\n",
      "8\n",
      "4\n",
      "2\n",
      "1\n"
     ]
    }
   ],
   "source": [
    "# Viendo la Conjectura de Collatz en accion\n",
    "n = randint(2,10)\n",
    "print(\"n:\",n)\n",
    "\n",
    "while n != 1:\n",
    "    if n % 2 == 0: # si n par\n",
    "        n = n//2\n",
    "    else:          # si n impar\n",
    "        n = 3*n + 1\n",
    "    print(n)"
   ]
  },
  {
   "cell_type": "markdown",
   "metadata": {},
   "source": [
    "## El ciclo `for`\n",
    "A diferencia de otros lenguajes de programación con ciclos con el nombre `for`, en Python siempre se utiliza de una forma que en otros lenguajes se conoce como un `for each`, es decir, en realidad haremos una iteración *por cada miembro* de algún \"iterable\" que indiquemos.\n",
    "\n",
    "### La función `range()`\n",
    "La secuencia iterable utilizada por excelencia en estos ciclos, es la generada por la funcion `range(start,finish + 1, step)` de Python, que nos permite generar una lista de numeros que vaya desde `start` hasta `finish`, aumentando en un paso indicado por `step`.\n",
    "\n",
    "Si no indicamos un `step`, el default es 1.\n",
    "\n",
    "### Ejemplos"
   ]
  },
  {
   "cell_type": "code",
   "execution_count": 4,
   "metadata": {},
   "outputs": [],
   "source": [
    "facultades = ['Ingenieria', 'Medicina', 'Enfermeria', 'Contaduría', 'Educacion Fisica']\n",
    "puntos = [(0,0), (4,0), (4,3)]"
   ]
  },
  {
   "cell_type": "code",
   "execution_count": 5,
   "metadata": {},
   "outputs": [
    {
     "name": "stdout",
     "output_type": "stream",
     "text": [
      "0\n",
      "1\n",
      "2\n",
      "3\n",
      "4\n",
      "5\n",
      "6\n",
      "7\n",
      "8\n",
      "9\n",
      "10\n"
     ]
    }
   ],
   "source": [
    "# Analogo al primer ejemplo de while\n",
    "for i in range(0,11):\n",
    "    print(i)"
   ]
  },
  {
   "cell_type": "code",
   "execution_count": 6,
   "metadata": {},
   "outputs": [
    {
     "name": "stdout",
     "output_type": "stream",
     "text": [
      "1\n",
      "3\n",
      "5\n",
      "7\n",
      "9\n",
      "11\n",
      "13\n",
      "15\n"
     ]
    }
   ],
   "source": [
    "# Usando la funcion range, digamos que queremos imprimir numeros impares hasta el 15\n",
    "for x in range(1, 16, 2):\n",
    "    print(x)"
   ]
  },
  {
   "cell_type": "code",
   "execution_count": 7,
   "metadata": {},
   "outputs": [
    {
     "name": "stdout",
     "output_type": "stream",
     "text": [
      "El campus 2 aloja a\n",
      "La Facultad de Ingenieria\n",
      "La Facultad de Medicina\n",
      "La Facultad de Enfermeria\n",
      "La Facultad de Contaduría\n",
      "La Facultad de Educacion Fisica\n"
     ]
    }
   ],
   "source": [
    "# Iterando sobre listas\n",
    "print(\"El campus 2 aloja a\")\n",
    "for facultad in facultades:\n",
    "    print(f\"La Facultad de {facultad}\")"
   ]
  },
  {
   "cell_type": "code",
   "execution_count": 8,
   "metadata": {},
   "outputs": [
    {
     "name": "stdout",
     "output_type": "stream",
     "text": [
      "Las coordenadas del triangulo son\n",
      "x = 0, y = 0\n",
      "x = 4, y = 0\n",
      "x = 4, y = 3\n"
     ]
    }
   ],
   "source": [
    "print(\"Las coordenadas del triangulo son\")\n",
    "for x, y in puntos: # Observa ese desempaquetado de tuplas!\n",
    "    print(f\"x = {x}, y = {y}\")"
   ]
  }
 ],
 "metadata": {
  "kernelspec": {
   "display_name": "Python 3",
   "language": "python",
   "name": "python3"
  },
  "language_info": {
   "codemirror_mode": {
    "name": "ipython",
    "version": 3
   },
   "file_extension": ".py",
   "mimetype": "text/x-python",
   "name": "python",
   "nbconvert_exporter": "python",
   "pygments_lexer": "ipython3",
   "version": "3.6.5"
  }
 },
 "nbformat": 4,
 "nbformat_minor": 2
}
