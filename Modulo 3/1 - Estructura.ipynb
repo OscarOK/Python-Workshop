{
 "cells": [
  {
   "cell_type": "markdown",
   "metadata": {},
   "source": [
    "Hasta ahora, la forma en que hemos ido ejecutando las cosas ha sido total y completamente secuencial. Se ejecuta la linea 1, luego la 2, luego la 3... así hasta terminar la ejecución del programa. Pero usualmente queremos que ciertas piezas de código solamente se ejecuten si se dan ciertas condiciones, o que se ejecuten un número determinado de veces o hasta que se cumpla alguna otra condición. Para esto existen las estructuras de control.\n",
    "\n",
    "Antes de continuar, es importante recalcar que en Python los bloques de código se definen en base a su *indentacion*, es decir, el número de espacios o tabulaciones que preceden una linea de código, a diferencia de otros lenguajes que utilizan llaves de apertura y cierre. Es por esto que debemos ser cuidadosos y consistentes con nuestras tabulaciones, pues nos puede llevar a errores dificiles de detectar. Sin más, comencemos.\n",
    "\n",
    "\n",
    "# Estructuras condicionales\n",
    "Si queremos que algo ocurra cuando una condición se cumple, basta con indicarlo con la siguiente sintaxis\n",
    "```python\n",
    "if something:\n",
    "    # Do stuff\n",
    "else:\n",
    "    # Do other stuff\n",
    "```\n",
    "\n",
    "Condiciones a buscar hay muchas, podemos preguntarnos sobre si cierto numero es mayor, menor o igual a otro. Si cierto objeto es miembro de alguna coleccion, si es `None`, si es de cierto tipo... Las posibilidades dependerán del contexto en ese momento."
   ]
  },
  {
   "cell_type": "code",
   "execution_count": 1,
   "metadata": {},
   "outputs": [],
   "source": [
    "from random import randint, choice"
   ]
  },
  {
   "cell_type": "markdown",
   "metadata": {},
   "source": [
    "##### Comparacion matemática"
   ]
  },
  {
   "cell_type": "code",
   "execution_count": 2,
   "metadata": {},
   "outputs": [
    {
     "name": "stdout",
     "output_type": "stream",
     "text": [
      "0 es no-negativo\n"
     ]
    }
   ],
   "source": [
    "x = randint(-5, 5) # Entero aleatorio\n",
    "if x >= 0:\n",
    "    print(f'{x} es no-negativo')\n",
    "else:\n",
    "    print(f'{x} es negativo')"
   ]
  },
  {
   "cell_type": "markdown",
   "metadata": {},
   "source": [
    "##### Pertenencia a colección"
   ]
  },
  {
   "cell_type": "code",
   "execution_count": 3,
   "metadata": {},
   "outputs": [],
   "source": [
    "colors = ['rojo', 'verde', 'azul', 'negro']\n",
    "my_color = 'amarillo'"
   ]
  },
  {
   "cell_type": "code",
   "execution_count": 4,
   "metadata": {},
   "outputs": [
    {
     "name": "stdout",
     "output_type": "stream",
     "text": [
      "No está en la lista\n"
     ]
    }
   ],
   "source": [
    "if my_color in colors:\n",
    "    print(\"Está en la lista\")\n",
    "else:\n",
    "    print(\"No está en la lista\")"
   ]
  },
  {
   "cell_type": "code",
   "execution_count": 5,
   "metadata": {},
   "outputs": [
    {
     "name": "stdout",
     "output_type": "stream",
     "text": [
      "No está en la lista\n"
     ]
    }
   ],
   "source": [
    "print(\"No\" if my_color not in colors else \"\", \"está en la lista\")"
   ]
  },
  {
   "cell_type": "markdown",
   "metadata": {},
   "source": [
    "##### Multiples opciones posibles"
   ]
  },
  {
   "cell_type": "code",
   "execution_count": 6,
   "metadata": {},
   "outputs": [
    {
     "name": "stdout",
     "output_type": "stream",
     "text": [
      "azul como el agua\n"
     ]
    }
   ],
   "source": [
    "color = choice(colors) # Seleccionamos un elemento aleatorio de colores\n",
    "\n",
    "if color is 'rojo':\n",
    "    comparisson = \"el fuego\"\n",
    "elif color is 'verde':\n",
    "    comparisson = \"las hojas\"\n",
    "elif color is 'azul':\n",
    "    comparisson = \"el agua\"\n",
    "elif color is 'negro':\n",
    "    comparisson = \"su corazon\"\n",
    "    \n",
    "print(color, \"como\", comparisson)\n",
    "\n",
    "# Como se podría simplificar esto con diccionarios?"
   ]
  },
  {
   "cell_type": "markdown",
   "metadata": {},
   "source": [
    "##### Operadores lógicos\n",
    "Podemos hacer expresiones logicas más complejas \"*encadenando*\" pequeñas expresiones logicas con los operadores and, or o not.\n",
    "Tal que\n",
    "```python\n",
    "a and b```\n",
    "Es `True` si tanto `a` como `b` son `True`, y `False` en cualquier otro caso.\n",
    "```python\n",
    "a or b```\n",
    "Es `True` si alguno de los dos (o ambos) son `True`\n",
    "```python\n",
    "not (expresion)```\n",
    "Niega la expresión, entonces se evalua a `False` si `expresion` es `True` y viceversa"
   ]
  },
  {
   "cell_type": "code",
   "execution_count": 7,
   "metadata": {},
   "outputs": [
    {
     "name": "stdout",
     "output_type": "stream",
     "text": [
      "-2\n"
     ]
    }
   ],
   "source": [
    "numeros = [x for x in range(-10, 11)]\n",
    "numero = choice(numeros)\n",
    "\n",
    "if numero > 0 and numero % 2 == 0:\n",
    "    print(numero, \"es un positivo par\")\n",
    "else:\n",
    "    print(numero)"
   ]
  },
  {
   "cell_type": "markdown",
   "metadata": {},
   "source": [
    "Hay que recordar que podemos almacenar los resultados de operaciones lógicas en variables booleanas, y usarlos así en nuestros condicionales."
   ]
  },
  {
   "cell_type": "code",
   "execution_count": 8,
   "metadata": {},
   "outputs": [
    {
     "name": "stdout",
     "output_type": "stream",
     "text": [
      "Va, es bueno pero no tanto\n"
     ]
    }
   ],
   "source": [
    "color = choice(colors)\n",
    "is_my_favorite_color = color == 'negro' # Almacenaremos True o False dependiendo del color elegido\n",
    "\n",
    "if is_my_favorite_color:\n",
    "    print(\"Se eligió negro, el mejor\")\n",
    "else:\n",
    "    print(\"Va, es bueno pero no tanto\")"
   ]
  }
 ],
 "metadata": {
  "kernelspec": {
   "display_name": "Python 3",
   "language": "python",
   "name": "python3"
  },
  "language_info": {
   "codemirror_mode": {
    "name": "ipython",
    "version": 3
   },
   "file_extension": ".py",
   "mimetype": "text/x-python",
   "name": "python",
   "nbconvert_exporter": "python",
   "pygments_lexer": "ipython3",
   "version": "3.6.5"
  }
 },
 "nbformat": 4,
 "nbformat_minor": 2
}
