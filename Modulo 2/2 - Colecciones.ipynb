{
 "cells": [
  {
   "cell_type": "markdown",
   "metadata": {},
   "source": [
    "# Colecciones en Python\n",
    "Tener una variable para cada numero o palabra en la existencia no resulta factible. Si tenemos información relacionada, es mucho más conveniente \"almacenarla\" o \"etiquetarla\" con una sola variable. Para esto nos sirven las diferentes colecciones en Python.\n",
    "\n",
    "## Listas\n",
    "Ya tuvimos un breve acercamiento a las listas cuando hablabamos de cadenas. Una lista, no es más que un conjunto de elementos que mantiene el orden en que fueron añadidos. Es decir, a cada elemento le corresponde una posicion determinada, y por lo tanto, podemos usar esa posición como un indice.\n",
    "\n",
    "Las listas se definen utilizando corchetes [ ], y separando los elementos con comas. No hay restricción respecto al tipo de elementos que puede haber en una misma lista, podemos tener elementos de varios tipos en una sola (incluso otras colecciones).\n"
   ]
  },
  {
   "cell_type": "code",
   "execution_count": 3,
   "metadata": {},
   "outputs": [
    {
     "name": "stdout",
     "output_type": "stream",
     "text": [
      "[1, 2, 3, 4, 5, 6, 7, 8, 9]\n",
      "Nombre: Juan. Matricula: 342780. Facultad: Ingenieria. Promedio: 8.3. Aprobado: True\n"
     ]
    }
   ],
   "source": [
    "numeros_suertudos = [1, 2, 3, 4, 5, 6, 7, 8, 9]\n",
    "print(numeros_suertudos)\n",
    "alumno = ['Juan', 342780, 'Ingenieria', 8.3, True]\n",
    "# Podemos acceder a elementos de la lista con su posicion\n",
    "print(f\"Nombre: {alumno[0]}. Matricula: {alumno[1]}. Facultad: {alumno[2]}. Promedio: {alumno[3]}. Aprobado: {alumno[-1]}\")"
   ]
  },
  {
   "cell_type": "markdown",
   "metadata": {},
   "source": [
    "Podemos **añadir** valores a una lista aunque ya haya sido creada usando .append()"
   ]
  },
  {
   "cell_type": "code",
   "execution_count": 4,
   "metadata": {},
   "outputs": [
    {
     "name": "stdout",
     "output_type": "stream",
     "text": [
      "[1, 2, 3, 4, 5, 6, 7, 8, 9, 420]\n"
     ]
    }
   ],
   "source": [
    "numeros_suertudos.append(420)\n",
    "print(numeros_suertudos)"
   ]
  },
  {
   "cell_type": "markdown",
   "metadata": {},
   "source": [
    "En las listas, podemos **modificar** el valor en alguna posición utilizando el operador de asignación ( = )"
   ]
  },
  {
   "cell_type": "code",
   "execution_count": 5,
   "metadata": {},
   "outputs": [
    {
     "name": "stdout",
     "output_type": "stream",
     "text": [
      "[1, 40, 3, 4, 5, 6, 7, 8, 9, 420]\n"
     ]
    }
   ],
   "source": [
    "numeros_suertudos[1] = 40\n",
    "print(numeros_suertudos)"
   ]
  },
  {
   "cell_type": "markdown",
   "metadata": {},
   "source": [
    "Y si queremos **eliminar** algun elemento particular, podemos utilizar la palabra `del`. Logicamente, esto cambiará el número de posición de los elementos que le siguieran."
   ]
  },
  {
   "cell_type": "code",
   "execution_count": 6,
   "metadata": {},
   "outputs": [
    {
     "name": "stdout",
     "output_type": "stream",
     "text": [
      "[1, 40, 4, 5, 6, 7, 8, 9, 420]\n"
     ]
    }
   ],
   "source": [
    "del numeros_suertudos[2]\n",
    "print(numeros_suertudos)"
   ]
  },
  {
   "cell_type": "markdown",
   "metadata": {},
   "source": [
    "Una manera un poco más \"limpia\" de eliminar un elemento, es con el método .pop(). Si le indicamos un indice, eliminará el elemento localizado en esa posición pero antes de hacerlo nos regresará su valor."
   ]
  },
  {
   "cell_type": "code",
   "execution_count": 7,
   "metadata": {},
   "outputs": [],
   "source": [
    "num = numeros_suertudos.pop(3)\n",
    "#Si no se le indica un indice, retira el elemento del final de la lista\n",
    "other_num = numeros_suertudos.pop()"
   ]
  },
  {
   "cell_type": "markdown",
   "metadata": {},
   "source": [
    "Si queremos saber el tamaño de una lista, utilizamos la funcion len()"
   ]
  },
  {
   "cell_type": "code",
   "execution_count": 8,
   "metadata": {},
   "outputs": [
    {
     "data": {
      "text/plain": [
       "7"
      ]
     },
     "execution_count": 8,
     "metadata": {},
     "output_type": "execute_result"
    }
   ],
   "source": [
    "len(numeros_suertudos)"
   ]
  },
  {
   "cell_type": "markdown",
   "metadata": {},
   "source": [
    "Como veíamos con las cadenas, con los corchetes podemos obtener subsecuencias de nuestras listas, como por ejemplo"
   ]
  },
  {
   "cell_type": "code",
   "execution_count": 9,
   "metadata": {},
   "outputs": [
    {
     "data": {
      "text/plain": [
       "[6, 7, 8, 9]"
      ]
     },
     "execution_count": 9,
     "metadata": {},
     "output_type": "execute_result"
    }
   ],
   "source": [
    "numeros_suertudos[3:7]"
   ]
  },
  {
   "cell_type": "code",
   "execution_count": 10,
   "metadata": {},
   "outputs": [
    {
     "data": {
      "text/plain": [
       "[9, 8, 7, 6, 4, 40, 1]"
      ]
     },
     "execution_count": 10,
     "metadata": {},
     "output_type": "execute_result"
    }
   ],
   "source": [
    "numeros_suertudos[ : :-1] # La sintaxis es inicial : final : paso"
   ]
  },
  {
   "cell_type": "markdown",
   "metadata": {},
   "source": [
    "Es importante recalcar que la lista original no ha sido modificada, estamos obteniendo *sub-secuencias* de esa lista.\n",
    "De igual manera, si asignamos una lista con otra variable, **no** se está generando una copia de esa lista, sino que estamos haciendo referencia a *la misma lista* con nombres diferentes."
   ]
  },
  {
   "cell_type": "code",
   "execution_count": 11,
   "metadata": {},
   "outputs": [
    {
     "name": "stdout",
     "output_type": "stream",
     "text": [
      "['A', 'B']\n",
      "['A']\n"
     ]
    }
   ],
   "source": [
    "lista = ['A', 'B']\n",
    "otra = lista # Asigna la direccion de 'lista' a 'otra'\n",
    "print(lista)\n",
    "otra.pop() # Al apuntar al mismo objeto, podemos notar los cambios usando el primer nombre de variable\n",
    "print(lista)"
   ]
  },
  {
   "cell_type": "markdown",
   "metadata": {},
   "source": [
    "Si lo que queremos es una copia de una lista, podemos utilizar la siguiente sintáxis:"
   ]
  },
  {
   "cell_type": "code",
   "execution_count": 12,
   "metadata": {},
   "outputs": [
    {
     "name": "stdout",
     "output_type": "stream",
     "text": [
      "['A', 'B']\n"
     ]
    }
   ],
   "source": [
    "lista = ['A', 'B']\n",
    "otra = lista[::] # Crea una copia superficial (shallow copy)\n",
    "otra.pop()\n",
    "print(lista) # La lista original no ha sido afectada"
   ]
  },
  {
   "cell_type": "markdown",
   "metadata": {},
   "source": [
    "### Listas de listas de...\n",
    "Como mencionabamos, las listas pueden contener elementos de cualquier tipo, por lo tanto, pueden contener *otras listas*.\n",
    "Las listas anidadas no necesariamente tienen que coincidir en longitud, y pueden a su vez contener más listas"
   ]
  },
  {
   "cell_type": "code",
   "execution_count": 14,
   "metadata": {},
   "outputs": [
    {
     "name": "stdout",
     "output_type": "stream",
     "text": [
      "2\n",
      "20\n"
     ]
    }
   ],
   "source": [
    "lista_de_listas = [\n",
    "    [1,2],\n",
    "    [-1,3],\n",
    "    [4,5,[20,420]]\n",
    "]\n",
    "print(lista_de_listas[0][1])\n",
    "print(lista_de_listas[2][2][0])"
   ]
  },
  {
   "cell_type": "markdown",
   "metadata": {},
   "source": [
    "### List comprehensions\n",
    "Las *list comprehensions* son una herramienta poderosa que nos permite generar listas de manera muy sencilla.\n",
    "Digamos que queremos una list de todos los numeros pares menores que 50. Podemos hacerlo manualmente, pero sería aburrido. También podríamos usar un ciclo (que veremos más adelante) pero sería complicar lo simple."
   ]
  },
  {
   "cell_type": "code",
   "execution_count": 15,
   "metadata": {},
   "outputs": [
    {
     "data": {
      "text/plain": [
       "[0,\n",
       " 2,\n",
       " 4,\n",
       " 6,\n",
       " 8,\n",
       " 10,\n",
       " 12,\n",
       " 14,\n",
       " 16,\n",
       " 18,\n",
       " 20,\n",
       " 22,\n",
       " 24,\n",
       " 26,\n",
       " 28,\n",
       " 30,\n",
       " 32,\n",
       " 34,\n",
       " 36,\n",
       " 38,\n",
       " 40,\n",
       " 42,\n",
       " 44,\n",
       " 46,\n",
       " 48]"
      ]
     },
     "execution_count": 15,
     "metadata": {},
     "output_type": "execute_result"
    }
   ],
   "source": [
    "pares = [x for x in range(0,50,2)]\n",
    "pares"
   ]
  },
  {
   "cell_type": "markdown",
   "metadata": {},
   "source": [
    "Veremos con más detalle lo que hace la funcion range() más adelante, de momento, maravillemonos ante lo que nos permite hacer"
   ]
  },
  {
   "cell_type": "code",
   "execution_count": 2,
   "metadata": {},
   "outputs": [
    {
     "data": {
      "text/plain": [
       "[(1, 1), (2, 4), (3, 9), (4, 16)]"
      ]
     },
     "execution_count": 2,
     "metadata": {},
     "output_type": "execute_result"
    }
   ],
   "source": [
    "lista = [(x, x**2) for x in range(1,5)] # Pares ordenados: numero, cuadrado\n",
    "lista"
   ]
  },
  {
   "cell_type": "code",
   "execution_count": 16,
   "metadata": {},
   "outputs": [
    {
     "name": "stdout",
     "output_type": "stream",
     "text": [
      "[[0, 0, 0, 0, 0], [0, 0, 0, 0, 0], [0, 0, 0, 0, 0], [0, 0, 0, 0, 0], [0, 0, 0, 0, 0]]\n"
     ]
    }
   ],
   "source": [
    "# Creando una matriz\n",
    "matriz = [[0 for i in range(5)] for j in range(5)]\n",
    "\n",
    "print(matriz)"
   ]
  },
  {
   "cell_type": "markdown",
   "metadata": {},
   "source": [
    "## Tuplas\n",
    "Las tuplas son semejantes a las listas, pero tienen una diferencia muy profunda: son *inmutables*, lo que quiere decir que una vez creadas no puede ser modificadas. Las tuplas son secuencias *ordenadas* de elementos, y al igual que las Listas, pueden contener elementos de diferentes tipos de dato a la vez.\n",
    "\n",
    "Para declarar una tupla, se hace de manera semejante a una lista, pero en esta ocasión usaremos paréntesis ( )"
   ]
  },
  {
   "cell_type": "code",
   "execution_count": null,
   "metadata": {},
   "outputs": [],
   "source": [
    "punto = (1,2)\n",
    "# Podemos consultar los miembros justo como con las listas\n",
    "print(punto[0], punto[1])\n",
    "\n",
    "# Declaracion de tupla vacia\n",
    "vacia = ()\n",
    "# Declaracion de tupla de un solo elemento\n",
    "solita = (\"Hola\",) # La coma del final es esencial"
   ]
  },
  {
   "cell_type": "markdown",
   "metadata": {},
   "source": [
    "### Desempaquetado\n",
    "Podemos asignar los valores de una tupla a variables individuales utilizando una sola instrucción.\n",
    "Solo necesitamos tener tantas variables como haya valores en la tupla"
   ]
  },
  {
   "cell_type": "code",
   "execution_count": 17,
   "metadata": {},
   "outputs": [
    {
     "name": "stdout",
     "output_type": "stream",
     "text": [
      "3 4 5\n"
     ]
    }
   ],
   "source": [
    "x, y, z = (3, 4, 5)\n",
    "print(x, y, z)"
   ]
  },
  {
   "cell_type": "markdown",
   "metadata": {},
   "source": [
    "## Conjuntos\n",
    "Son una coleccion no ordenada que no contiene elementos duplicados. Podemos hacer operaciones de conjuntos usandolos.\n",
    "Se declaran utilizando el constructor set()"
   ]
  },
  {
   "cell_type": "code",
   "execution_count": 8,
   "metadata": {},
   "outputs": [
    {
     "name": "stdout",
     "output_type": "stream",
     "text": [
      "{'a', 'b', 'c'}\n",
      "{' ', 'l', 'c', 'a', 'e', 's', 'o', 'b', 'h'}\n"
     ]
    }
   ],
   "source": [
    "# Conjunto vacio\n",
    "set1 = set()\n",
    "set1.add('a')\n",
    "set1.add('b')\n",
    "set1.add('c')\n",
    "set1.add('a')\n",
    "print(set1)\n",
    "# Conjunto a partir de un iterable\n",
    "set2 = set('hola clase')\n",
    "print('Union', set1 | set2)\n",
    "print('Diferencia', set1 - set2)\n",
    "print('Interseccion', set1 ^ set2)"
   ]
  },
  {
   "cell_type": "markdown",
   "metadata": {},
   "source": [
    "## Diccionarios\n",
    "Los diccionarios son una importante colección que Python ofrece de manera nativa.\n",
    "Como su nombre lo indica, nos permite asociar claves con valores, justo como un diccionario asocia palabras con definiciones.\n",
    "Para esto, los objetos que decidamos usar como claves deben ser inmutables, como numeros, cadenas o tuplas. No podemos usar listas como claves.\n",
    "Para los valores que almacenemos no hay restriccion."
   ]
  },
  {
   "cell_type": "code",
   "execution_count": 18,
   "metadata": {},
   "outputs": [
    {
     "name": "stdout",
     "output_type": "stream",
     "text": [
      "1\n",
      "[2, 3, 4]\n",
      "Wow\n"
     ]
    }
   ],
   "source": [
    "d = {'A' : 1, 'B': [2,3,4], (0,0): 'Wow'}\n",
    "print(d['A'])\n",
    "print(d['B'])\n",
    "print(d[(0,0)])"
   ]
  },
  {
   "cell_type": "code",
   "execution_count": 19,
   "metadata": {},
   "outputs": [
    {
     "name": "stdout",
     "output_type": "stream",
     "text": [
      "dict_keys(['A', 'B', (0, 0)])\n",
      "dict_items([('A', 1), ('B', [2, 3, 4]), ((0, 0), 'Wow')])\n",
      "{'A': 1, 'B': [2, 3, 4], (0, 0): 'Wow'}\n"
     ]
    }
   ],
   "source": [
    "# Lista de todas las claves (llaves) de un diccionario\n",
    "llaves = d.keys()\n",
    "# Lista de todos los pares (tuplas) clave-valor\n",
    "items = d.items()\n",
    "\n",
    "print(llaves)\n",
    "print(items)\n",
    "print(d)"
   ]
  },
  {
   "cell_type": "code",
   "execution_count": 20,
   "metadata": {},
   "outputs": [
    {
     "data": {
      "text/plain": [
       "3"
      ]
     },
     "execution_count": 20,
     "metadata": {},
     "output_type": "execute_result"
    }
   ],
   "source": [
    "len(d)"
   ]
  },
  {
   "cell_type": "code",
   "execution_count": null,
   "metadata": {},
   "outputs": [],
   "source": []
  }
 ],
 "metadata": {
  "kernelspec": {
   "display_name": "Python 3",
   "language": "python",
   "name": "python3"
  },
  "language_info": {
   "codemirror_mode": {
    "name": "ipython",
    "version": 3
   },
   "file_extension": ".py",
   "mimetype": "text/x-python",
   "name": "python",
   "nbconvert_exporter": "python",
   "pygments_lexer": "ipython3",
   "version": "3.7.1"
  }
 },
 "nbformat": 4,
 "nbformat_minor": 2
}
