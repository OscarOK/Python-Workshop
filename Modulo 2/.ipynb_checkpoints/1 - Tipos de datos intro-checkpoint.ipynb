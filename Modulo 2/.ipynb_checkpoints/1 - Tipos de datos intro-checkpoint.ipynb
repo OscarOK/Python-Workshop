{
 "cells": [
  {
   "cell_type": "markdown",
   "metadata": {},
   "source": [
    "# Tipos de datos en un lenguaje dinámico\n",
    "Para *declarar una variable* en Python, basta con **escribir un nombre** y **asignarle un valor**. A diferencia de lenguajes populares como C o Java, en Python el tipado es dinámico. Esto quiere decir que cuando declaremos una variable *no es necesario indicar de qué tipo es*."
   ]
  },
  {
   "cell_type": "markdown",
   "metadata": {},
   "source": [
    "## Números\n",
    "Comencemos por los números, para los enteros basta con, pues, asignarle enteros (positivos, negativos, o el cero) a variables."
   ]
  },
  {
   "cell_type": "code",
   "execution_count": 1,
   "metadata": {},
   "outputs": [
    {
     "name": "stdout",
     "output_type": "stream",
     "text": [
      "Mis enteros 5 -2\n",
      "Mis flotantes 9.23 6.02214e+23\n"
     ]
    }
   ],
   "source": [
    "# Enteros\n",
    "cinco = 5\n",
    "menos_dos = -2\n",
    "# Flotantes\n",
    "num_f = 9.23\n",
    "avo = 6.022140e23 # Notacion cientifica, wow!\n",
    "print(\"Mis enteros\", cinco, menos_dos)\n",
    "print(\"Mis flotantes\", num_f, avo)"
   ]
  },
  {
   "cell_type": "markdown",
   "metadata": {},
   "source": [
    "Haciendo un poco más complejo el asunto, Python nos permite trabajar directamente con números complejos. Se declaran de la siguiente forma:"
   ]
  },
  {
   "cell_type": "code",
   "execution_count": null,
   "metadata": {},
   "outputs": [],
   "source": [
    "z = 3 + 4j\n",
    "print(\"z =\", z)\n",
    "print(\"Parte real:\", z.real, \"Parte imaginaria:\", z.imag)"
   ]
  },
  {
   "cell_type": "markdown",
   "metadata": {},
   "source": [
    "### Operaciones\n",
    "Probablemente querramos hacer operaciones con estos números, para ello existe una variedad de operadores"
   ]
  },
  {
   "cell_type": "code",
   "execution_count": null,
   "metadata": {},
   "outputs": [],
   "source": [
    "# Suma\n",
    "a = cinco + menos_dos # Suma\n",
    "b = menos_dos - cinco # Resta\n",
    "c = menos_dos * cinco # Multiplicacion\n",
    "cc = cinco ** 2 # Exponenciacion\n",
    "d = cinco / menos_dos # Division (importante! puede regresar flotantes)\n",
    "e = cinco // menos_dos # Division entera (regresa solo la parte entera del resultado)\n",
    "f = cinco % 3 # Operador modulo: nos da el resto de la division\n",
    "g = cinco + num_f # Podemos hacer operaciones entre enteros y flotantes, y recibir un flotante\n",
    "\n",
    "# Que tal si imprimen los valores"
   ]
  },
  {
   "cell_type": "markdown",
   "metadata": {},
   "source": [
    "## Boolean\n",
    "En ocasiones queremos almacenar algún resultado *logico*, es decir, si algo resultó ser falso o verdadero. Para eso tenemos los valores especiales `True`y `False`. Es importante notar que se escriben con mayúscula al inicio"
   ]
  },
  {
   "cell_type": "code",
   "execution_count": null,
   "metadata": {},
   "outputs": [],
   "source": [
    "verdadero = True\n",
    "falso = False"
   ]
  },
  {
   "cell_type": "markdown",
   "metadata": {},
   "source": [
    "## Cadenas\n",
    "Sigamos ahora con las cadenas de caracteres. Pueden declararse con comillas dobles (\" \") o con comillas simples (' ')"
   ]
  },
  {
   "cell_type": "code",
   "execution_count": null,
   "metadata": {},
   "outputs": [],
   "source": [
    "hello = \"Hola\" # Notese el espacio al final\n",
    "world = \"mundo\"\n",
    "print(hello, world)"
   ]
  },
  {
   "cell_type": "markdown",
   "metadata": {},
   "source": [
    "Podemos unir dos cadenas con el operador +"
   ]
  },
  {
   "cell_type": "code",
   "execution_count": null,
   "metadata": {},
   "outputs": [],
   "source": [
    "nueva_cadena = hello + \" \" + world + \". Bonito dia\"\n",
    "print(nueva_cadena)"
   ]
  },
  {
   "cell_type": "markdown",
   "metadata": {},
   "source": [
    "### Operaciones con cadenas\n",
    "Las cadenas tienen una multitud de operaciones incluidas, vamos a ver algunas notables.\n",
    "Así como podemos usar el operador de suma para unir cadenas, podemos utilizar el de multiplicación si lo que queremos es una cadena que contenga varias copias de alguna otra, como por ejemplo"
   ]
  },
  {
   "cell_type": "code",
   "execution_count": null,
   "metadata": {},
   "outputs": [],
   "source": [
    "print('fooBar' * 3 )\n",
    "print('c' * 15)"
   ]
  },
  {
   "cell_type": "markdown",
   "metadata": {},
   "source": [
    "Digamos que queremos poner una cadena totalmente en mayúsculas o totalmente en minúsculas, para ello podemos auxiliarnos de los *métodos* `upper()` y `lower()` como en"
   ]
  },
  {
   "cell_type": "code",
   "execution_count": null,
   "metadata": {},
   "outputs": [],
   "source": [
    "'mayus'.upper()"
   ]
  },
  {
   "cell_type": "code",
   "execution_count": null,
   "metadata": {},
   "outputs": [],
   "source": [
    "'MoXoS'.lower()"
   ]
  },
  {
   "cell_type": "markdown",
   "metadata": {},
   "source": [
    "En Python, las cadenas pueden comportarse como listas, un tipo de dato que veremos pronto. De momento, solo es necesario saber que podemos obtener el caracter que se encuentre en alguna posicion que indiquemos utilizando corchetes y el número de posición. Debemos recordar, que la primer posición siempre se denota con 0"
   ]
  },
  {
   "cell_type": "code",
   "execution_count": null,
   "metadata": {},
   "outputs": [],
   "source": [
    "hm = 'Hola mundo'\n",
    "primera_letra = hm[0]\n",
    "print(primera_letra)"
   ]
  },
  {
   "cell_type": "markdown",
   "metadata": {},
   "source": [
    "Algo interesante, es que podemos comenzar a contar desde el lado derecho. La última posición, se puede indicar como -1, y de ahí podemos comenzar a contar hacia atras."
   ]
  },
  {
   "cell_type": "code",
   "execution_count": null,
   "metadata": {},
   "outputs": [],
   "source": [
    "ultima_letra = hm[-1]\n",
    "print(ultima_letra)"
   ]
  },
  {
   "cell_type": "markdown",
   "metadata": {},
   "source": [
    "Si queremos solo cierta parte de nuestra cadena, podemos usar una sintaxis de rango, algo así\n",
    "`[posicion_inicial, posicion_final]`\n",
    "Donde el rango comenzará en la posicion inicial, pero no incluye la posicion indicada como final.\n",
    "Como ejemplo"
   ]
  },
  {
   "cell_type": "code",
   "execution_count": null,
   "metadata": {},
   "outputs": [],
   "source": [
    "m = hm[5:10] # La posicion de la o es 9, por eso debemos sumarle 1 a la final\n",
    "print(m)"
   ]
  },
  {
   "cell_type": "markdown",
   "metadata": {},
   "source": [
    "### f-strings\n",
    "Son *literales* de cadenas a las cuales podemos darles formato, es decir, podemos tener un comportamiento un poco más dinámico en nuestras cadenas. Para indicar que nuestra cadena es de este tipo, añadimos una `f` justo antes de las comillas de apertura"
   ]
  },
  {
   "cell_type": "code",
   "execution_count": null,
   "metadata": {},
   "outputs": [],
   "source": [
    "nombre_taller = 'Programacion en Python'\n",
    "progra = 'Club de Programacion'\n",
    "ciencias = 'Club de Ciencias'\n",
    "clubes = progra + ' y el ' + ciencias\n",
    "\n",
    "presentacion = f\"Bienvenidos al Taller de {nombre_taller} presentado por el {clubes}\"\n",
    "print(presentacion)"
   ]
  },
  {
   "cell_type": "markdown",
   "metadata": {},
   "source": [
    "Como pueden ver, podemos utilizar expresiones directamente dentro de las llaves en una f-string"
   ]
  },
  {
   "cell_type": "markdown",
   "metadata": {},
   "source": [
    "## Números complejos"
   ]
  },
  {
   "cell_type": "code",
   "execution_count": 10,
   "metadata": {},
   "outputs": [
    {
     "name": "stdout",
     "output_type": "stream",
     "text": [
      "0j (1+0j) (1+5j) (1+10j)\n"
     ]
    }
   ],
   "source": [
    "num = complex()\n",
    "num_1 = complex(1)\n",
    "num_2 = complex(1, 5)\n",
    "num_3 = 1 + 10j\n",
    "\n",
    "print(num, num_1, num_2, num_3)"
   ]
  },
  {
   "cell_type": "markdown",
   "metadata": {},
   "source": [
    "### Operaciones"
   ]
  },
  {
   "cell_type": "code",
   "execution_count": 16,
   "metadata": {},
   "outputs": [
    {
     "name": "stdout",
     "output_type": "stream",
     "text": [
      "(1+5j) (1+10j) 0j (0.504950495049505-0.04950495049504951j) (1+0j)\n"
     ]
    }
   ],
   "source": [
    "# Suma de numeros complejos\n",
    "op_1 = num + num_2\n",
    "# Resta de numeros complejos\n",
    "op_2 = num_3 - num\n",
    "# Multiplicación entre numeros complejos\n",
    "op_3 = num * num_3\n",
    "# Division entre numeros complejos\n",
    "op_4 = num_2 / num_3\n",
    "# Potencia en numeros complejos\n",
    "op_5 = num_3 ** 2\n",
    "\n",
    "print(op_1, op_2, op_3, op_4, op_5)"
   ]
  },
  {
   "cell_type": "markdown",
   "metadata": {},
   "source": [
    "## Obtener partes del numero complejo"
   ]
  },
  {
   "cell_type": "code",
   "execution_count": 17,
   "metadata": {},
   "outputs": [
    {
     "name": "stdout",
     "output_type": "stream",
     "text": [
      "1.0 10.0\n"
     ]
    }
   ],
   "source": [
    "# Guarda la parte real\n",
    "p_real = num_3.real\n",
    "# Guarda la parte imaginaria\n",
    "p_img = num_3.imag\n",
    "\n",
    "print(p_real, p_img)"
   ]
  },
  {
   "cell_type": "markdown",
   "metadata": {},
   "source": [
    "## Preguntando si es un número complejo"
   ]
  },
  {
   "cell_type": "code",
   "execution_count": 24,
   "metadata": {},
   "outputs": [
    {
     "name": "stdout",
     "output_type": "stream",
     "text": [
      "False False\n",
      "True\n"
     ]
    }
   ],
   "source": [
    "# Preguntando si las partes del numero complejo son complejos\n",
    "print(isinstance(p_real, complex), isinstance(p_img, complex))\n",
    "\n",
    "# Preguntando si un numero es complejo\n",
    "print(isinstance(num_3, complex))"
   ]
  },
  {
   "cell_type": "code",
   "execution_count": null,
   "metadata": {},
   "outputs": [],
   "source": []
  }
 ],
 "metadata": {
  "kernelspec": {
   "display_name": "Python 3",
   "language": "python",
   "name": "python3"
  },
  "language_info": {
   "codemirror_mode": {
    "name": "ipython",
    "version": 3
   },
   "file_extension": ".py",
   "mimetype": "text/x-python",
   "name": "python",
   "nbconvert_exporter": "python",
   "pygments_lexer": "ipython3",
   "version": "3.7.1"
  }
 },
 "nbformat": 4,
 "nbformat_minor": 2
}
